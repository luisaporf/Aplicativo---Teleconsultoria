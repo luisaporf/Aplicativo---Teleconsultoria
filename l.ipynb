{
 "cells": [
  {
   "cell_type": "code",
   "execution_count": 1,
   "metadata": {},
   "outputs": [
    {
     "name": "stdout",
     "output_type": "stream",
     "text": [
      "📁 .expo/\n",
      "    📁 web/\n",
      "        📁 cache/\n",
      "            📁 production/\n",
      "                📁 images/\n",
      "                    📁 favicon/\n",
      "                        📁 favicon-24272cdaeff82cc5facdaccd982a6f05b60c4504704bbf94c19a6388659880bb-contain-transparent/\n",
      "📁 assets/\n",
      "    📁 Icons/\n",
      "📁 src/\n",
      "    📁 components/\n",
      "        📁 NewCaseForm/\n",
      "    📁 constants/\n",
      "    📁 data/\n",
      "    📁 navigation/\n",
      "    📁 screens/\n"
     ]
    }
   ],
   "source": [
    "import os\n",
    "\n",
    "def listar_estrutura_diretorio(caminho='.', prefixo=''):\n",
    "    for item in sorted(os.listdir(caminho)):\n",
    "        if item == 'node_modules':\n",
    "            continue  # Ignora a pasta node_modules\n",
    "        \n",
    "        caminho_completo = os.path.join(caminho, item)\n",
    "        if os.path.isdir(caminho_completo):\n",
    "            print(f'{prefixo}📁 {item}/')\n",
    "            listar_estrutura_diretorio(caminho_completo, prefixo + '    ')\n",
    "\n",
    "# Executa no diretório atual\n",
    "listar_estrutura_diretorio()\n"
   ]
  },
  {
   "cell_type": "code",
   "execution_count": null,
   "metadata": {},
   "outputs": [],
   "source": []
  }
 ],
 "metadata": {
  "kernelspec": {
   "display_name": "Python 3",
   "language": "python",
   "name": "python3"
  },
  "language_info": {
   "codemirror_mode": {
    "name": "ipython",
    "version": 3
   },
   "file_extension": ".py",
   "mimetype": "text/x-python",
   "name": "python",
   "nbconvert_exporter": "python",
   "pygments_lexer": "ipython3",
   "version": "3.12.2"
  }
 },
 "nbformat": 4,
 "nbformat_minor": 2
}
